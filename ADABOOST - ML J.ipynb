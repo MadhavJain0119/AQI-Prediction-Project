{
 "cells": [
  {
   "cell_type": "code",
   "execution_count": 1,
   "id": "33464586",
   "metadata": {},
   "outputs": [],
   "source": [
    "import pandas as pd\n",
    "import numpy as np\n",
    "import matplotlib.pyplot as plt\n",
    "import seaborn as sns\n",
    "from sklearn.model_selection import train_test_split\n",
    "from sklearn.model_selection import cross_val_score\n",
    "from sklearn.model_selection import RandomizedSearchCV\n",
    "from sklearn.ensemble import AdaBoostRegressor\n",
    "from sklearn import metrics\n",
    "import pickle\n",
    "from sklearn.preprocessing import LabelEncoder\n",
    "from sklearn import utils\n",
    "import warnings\n",
    "warnings.filterwarnings(\"ignore\")"
   ]
  },
  {
   "cell_type": "code",
   "execution_count": 2,
   "id": "067a380a",
   "metadata": {},
   "outputs": [],
   "source": [
    "df = pd.read_csv('Real_Combine.csv')\n",
    "df = df.dropna()\n",
    "X = df.iloc[:,:-1]\n",
    "y = df.iloc[:,-1]\n",
    "X_train, X_test, y_train, y_test = train_test_split(X, y, test_size = 0.3, random_state = 0)"
   ]
  },
  {
   "cell_type": "code",
   "execution_count": 3,
   "id": "41a86a2b",
   "metadata": {},
   "outputs": [
    {
     "data": {
      "text/html": [
       "<style>#sk-container-id-1 {color: black;background-color: white;}#sk-container-id-1 pre{padding: 0;}#sk-container-id-1 div.sk-toggleable {background-color: white;}#sk-container-id-1 label.sk-toggleable__label {cursor: pointer;display: block;width: 100%;margin-bottom: 0;padding: 0.3em;box-sizing: border-box;text-align: center;}#sk-container-id-1 label.sk-toggleable__label-arrow:before {content: \"▸\";float: left;margin-right: 0.25em;color: #696969;}#sk-container-id-1 label.sk-toggleable__label-arrow:hover:before {color: black;}#sk-container-id-1 div.sk-estimator:hover label.sk-toggleable__label-arrow:before {color: black;}#sk-container-id-1 div.sk-toggleable__content {max-height: 0;max-width: 0;overflow: hidden;text-align: left;background-color: #f0f8ff;}#sk-container-id-1 div.sk-toggleable__content pre {margin: 0.2em;color: black;border-radius: 0.25em;background-color: #f0f8ff;}#sk-container-id-1 input.sk-toggleable__control:checked~div.sk-toggleable__content {max-height: 200px;max-width: 100%;overflow: auto;}#sk-container-id-1 input.sk-toggleable__control:checked~label.sk-toggleable__label-arrow:before {content: \"▾\";}#sk-container-id-1 div.sk-estimator input.sk-toggleable__control:checked~label.sk-toggleable__label {background-color: #d4ebff;}#sk-container-id-1 div.sk-label input.sk-toggleable__control:checked~label.sk-toggleable__label {background-color: #d4ebff;}#sk-container-id-1 input.sk-hidden--visually {border: 0;clip: rect(1px 1px 1px 1px);clip: rect(1px, 1px, 1px, 1px);height: 1px;margin: -1px;overflow: hidden;padding: 0;position: absolute;width: 1px;}#sk-container-id-1 div.sk-estimator {font-family: monospace;background-color: #f0f8ff;border: 1px dotted black;border-radius: 0.25em;box-sizing: border-box;margin-bottom: 0.5em;}#sk-container-id-1 div.sk-estimator:hover {background-color: #d4ebff;}#sk-container-id-1 div.sk-parallel-item::after {content: \"\";width: 100%;border-bottom: 1px solid gray;flex-grow: 1;}#sk-container-id-1 div.sk-label:hover label.sk-toggleable__label {background-color: #d4ebff;}#sk-container-id-1 div.sk-serial::before {content: \"\";position: absolute;border-left: 1px solid gray;box-sizing: border-box;top: 0;bottom: 0;left: 50%;z-index: 0;}#sk-container-id-1 div.sk-serial {display: flex;flex-direction: column;align-items: center;background-color: white;padding-right: 0.2em;padding-left: 0.2em;position: relative;}#sk-container-id-1 div.sk-item {position: relative;z-index: 1;}#sk-container-id-1 div.sk-parallel {display: flex;align-items: stretch;justify-content: center;background-color: white;position: relative;}#sk-container-id-1 div.sk-item::before, #sk-container-id-1 div.sk-parallel-item::before {content: \"\";position: absolute;border-left: 1px solid gray;box-sizing: border-box;top: 0;bottom: 0;left: 50%;z-index: -1;}#sk-container-id-1 div.sk-parallel-item {display: flex;flex-direction: column;z-index: 1;position: relative;background-color: white;}#sk-container-id-1 div.sk-parallel-item:first-child::after {align-self: flex-end;width: 50%;}#sk-container-id-1 div.sk-parallel-item:last-child::after {align-self: flex-start;width: 50%;}#sk-container-id-1 div.sk-parallel-item:only-child::after {width: 0;}#sk-container-id-1 div.sk-dashed-wrapped {border: 1px dashed gray;margin: 0 0.4em 0.5em 0.4em;box-sizing: border-box;padding-bottom: 0.4em;background-color: white;}#sk-container-id-1 div.sk-label label {font-family: monospace;font-weight: bold;display: inline-block;line-height: 1.2em;}#sk-container-id-1 div.sk-label-container {text-align: center;}#sk-container-id-1 div.sk-container {/* jupyter's `normalize.less` sets `[hidden] { display: none; }` but bootstrap.min.css set `[hidden] { display: none !important; }` so we also need the `!important` here to be able to override the default hidden behavior on the sphinx rendered scikit-learn.org. See: https://github.com/scikit-learn/scikit-learn/issues/21755 */display: inline-block !important;position: relative;}#sk-container-id-1 div.sk-text-repr-fallback {display: none;}</style><div id=\"sk-container-id-1\" class=\"sk-top-container\"><div class=\"sk-text-repr-fallback\"><pre>AdaBoostRegressor(random_state=0)</pre><b>In a Jupyter environment, please rerun this cell to show the HTML representation or trust the notebook. <br />On GitHub, the HTML representation is unable to render, please try loading this page with nbviewer.org.</b></div><div class=\"sk-container\" hidden><div class=\"sk-item\"><div class=\"sk-estimator sk-toggleable\"><input class=\"sk-toggleable__control sk-hidden--visually\" id=\"sk-estimator-id-1\" type=\"checkbox\" checked><label for=\"sk-estimator-id-1\" class=\"sk-toggleable__label sk-toggleable__label-arrow\">AdaBoostRegressor</label><div class=\"sk-toggleable__content\"><pre>AdaBoostRegressor(random_state=0)</pre></div></div></div></div></div>"
      ],
      "text/plain": [
       "AdaBoostRegressor(random_state=0)"
      ]
     },
     "execution_count": 3,
     "metadata": {},
     "output_type": "execute_result"
    }
   ],
   "source": [
    "regressor = AdaBoostRegressor(random_state=0)\n",
    "regressor.fit(X_train, y_train)"
   ]
  },
  {
   "cell_type": "code",
   "execution_count": 4,
   "id": "fd9a1402",
   "metadata": {},
   "outputs": [
    {
     "name": "stdout",
     "output_type": "stream",
     "text": [
      "R2(train data): 0.6811306100180031\n",
      "R2(test data): 0.5382249429249153\n"
     ]
    }
   ],
   "source": [
    "print(\"R2(train data): {}\".format(regressor.score(X_train, y_train)))\n",
    "print(\"R2(test data): {}\".format(regressor.score(X_test, y_test)))"
   ]
  },
  {
   "cell_type": "code",
   "execution_count": 5,
   "id": "095506bb",
   "metadata": {},
   "outputs": [
    {
     "data": {
      "text/plain": [
       "-0.34213988623778235"
      ]
     },
     "execution_count": 5,
     "metadata": {},
     "output_type": "execute_result"
    }
   ],
   "source": [
    "score=cross_val_score(regressor, X, y, cv=10)\n",
    "score.mean()"
   ]
  },
  {
   "cell_type": "code",
   "execution_count": 6,
   "id": "3119af83",
   "metadata": {},
   "outputs": [],
   "source": [
    "prediction=regressor.predict(X_test)"
   ]
  },
  {
   "cell_type": "code",
   "execution_count": 7,
   "id": "5475c4ac",
   "metadata": {},
   "outputs": [
    {
     "data": {
      "text/plain": [
       "<AxesSubplot:xlabel='VM', ylabel='Density'>"
      ]
     },
     "execution_count": 7,
     "metadata": {},
     "output_type": "execute_result"
    },
    {
     "data": {
      "image/png": "[encoded data removed]",
      "text/plain": [
       "<Figure size 432x288 with 1 Axes>"
      ]
     },
     "metadata": {
      "needs_background": "light"
     },
     "output_type": "display_data"
    }
   ],
   "source": [
    "sns.distplot(y_test-prediction)"
   ]
  },
  {
   "cell_type": "code",
   "execution_count": 8,
   "id": "4be9d088",
   "metadata": {},
   "outputs": [
    {
     "data": {
      "text/plain": [
       "<matplotlib.collections.PathCollection at 0x23788207640>"
      ]
     },
     "execution_count": 8,
     "metadata": {},
     "output_type": "execute_result"
    },
    {
     "data": {
      "image/png": "[encoded data removed]",
      "text/plain": [
       "<Figure size 432x288 with 1 Axes>"
      ]
     },
     "metadata": {
      "needs_background": "light"
     },
     "output_type": "display_data"
    }
   ],
   "source": [
    "plt.scatter(y_test, prediction)"
   ]
  },
  {
   "cell_type": "code",
   "execution_count": 9,
   "id": "cd76ad34",
   "metadata": {},
   "outputs": [
    {
     "name": "stdout",
     "output_type": "stream",
     "text": [
      "Fitting 10 folds for each of 50 candidates, totalling 500 fits\n",
      "[CV] END base_estimator=LinearRegression(), learning_rate=0.01, n_estimators=100; total time=   0.2s\n",
      "[CV] END base_estimator=LinearRegression(), learning_rate=0.01, n_estimators=100; total time=   0.2s\n",
      "[CV] END base_estimator=LinearRegression(), learning_rate=0.01, n_estimators=100; total time=   0.2s\n",
      "[CV] END base_estimator=LinearRegression(), learning_rate=0.01, n_estimators=100; total time=   0.2s\n",
      "[CV] END base_estimator=LinearRegression(), learning_rate=0.01, n_estimators=100; total time=   0.2s\n",
      "[CV] END base_estimator=LinearRegression(), learning_rate=0.01, n_estimators=100; total time=   0.2s\n",
      "[CV] END base_estimator=LinearRegression(), learning_rate=0.01, n_estimators=100; total time=   0.2s\n",
      "[CV] END base_estimator=LinearRegression(), learning_rate=0.01, n_estimators=100; total time=   0.2s\n",
      "[CV] END base_estimator=LinearRegression(), learning_rate=0.01, n_estimators=100; total time=   0.2s\n",
      "[CV] END base_estimator=LinearRegression(), learning_rate=0.01, n_estimators=100; total time=   0.2s\n",
      "[CV] END base_estimator=LinearRegression(), learning_rate=0.01, n_estimators=200; total time=   0.5s\n",
      "[CV] END base_estimator=LinearRegression(), learning_rate=0.01, n_estimators=200; total time=   0.5s\n",
      "[CV] END base_estimator=LinearRegression(), learning_rate=0.01, n_estimators=200; total time=   0.5s\n",
      "[CV] END base_estimator=LinearRegression(), learning_rate=0.01, n_estimators=200; total time=   0.5s\n",
      "[CV] END base_estimator=LinearRegression(), learning_rate=0.01, n_estimators=200; total time=   0.5s\n",
      "[CV] END base_estimator=LinearRegression(), learning_rate=0.01, n_estimators=200; total time=   0.5s\n",
      "[CV] END base_estimator=LinearRegression(), learning_rate=0.01, n_estimators=200; total time=   0.5s\n",
      "[CV] END base_estimator=LinearRegression(), learning_rate=0.01, n_estimators=200; total time=   0.5s\n",
      "[CV] END base_estimator=LinearRegression(), learning_rate=0.01, n_estimators=200; total time=   0.5s\n",
      "[CV] END base_estimator=LinearRegression(), learning_rate=0.01, n_estimators=200; total time=   0.5s\n",
      "[CV] END base_estimator=LinearRegression(), learning_rate=0.01, n_estimators=300; total time=   0.8s\n",
      "[CV] END base_estimator=LinearRegression(), learning_rate=0.01, n_estimators=300; total time=   0.8s\n",
      "[CV] END base_estimator=LinearRegression(), learning_rate=0.01, n_estimators=300; total time=   0.8s\n",
      "[CV] END base_estimator=LinearRegression(), learning_rate=0.01, n_estimators=300; total time=   0.8s\n",
      "[CV] END base_estimator=LinearRegression(), learning_rate=0.01, n_estimators=300; total time=   0.7s\n",
      "[CV] END base_estimator=LinearRegression(), learning_rate=0.01, n_estimators=300; total time=   0.7s\n",
      "[CV] END base_estimator=LinearRegression(), learning_rate=0.01, n_estimators=300; total time=   0.8s\n",
      "[CV] END base_estimator=LinearRegression(), learning_rate=0.01, n_estimators=300; total time=   0.8s\n",
      "[CV] END base_estimator=LinearRegression(), learning_rate=0.01, n_estimators=300; total time=   0.8s\n",
      "[CV] END base_estimator=LinearRegression(), learning_rate=0.01, n_estimators=300; total time=   0.9s\n",
      "[CV] END base_estimator=LinearRegression(), learning_rate=0.01, n_estimators=400; total time=   1.1s\n",
      "[CV] END base_estimator=LinearRegression(), learning_rate=0.01, n_estimators=400; total time=   1.1s\n",
      "[CV] END base_estimator=LinearRegression(), learning_rate=0.01, n_estimators=400; total time=   1.1s\n",
      "[CV] END base_estimator=LinearRegression(), learning_rate=0.01, n_estimators=400; total time=   1.1s\n",
      "[CV] END base_estimator=LinearRegression(), learning_rate=0.01, n_estimators=400; total time=   1.0s\n",
      "[CV] END base_estimator=LinearRegression(), learning_rate=0.01, n_estimators=400; total time=   1.1s\n",
      "[CV] END base_estimator=LinearRegression(), learning_rate=0.01, n_estimators=400; total time=   1.1s\n",
      "[CV] END base_estimator=LinearRegression(), learning_rate=0.01, n_estimators=400; total time=   1.1s\n",
      "[CV] END base_estimator=LinearRegression(), learning_rate=0.01, n_estimators=400; total time=   1.0s\n",
      "[CV] END base_estimator=LinearRegression(), learning_rate=0.01, n_estimators=400; total time=   1.1s\n",
      "[CV] END base_estimator=LinearRegression(), learning_rate=0.01, n_estimators=500; total time=   1.5s\n",
      "[CV] END base_estimator=LinearRegression(), learning_rate=0.01, n_estimators=500; total time=   1.4s\n",
      "[CV] END base_estimator=LinearRegression(), learning_rate=0.01, n_estimators=500; total time=   1.3s\n",
      "[CV] END base_estimator=LinearRegression(), learning_rate=0.01, n_estimators=500; total time=   1.4s\n",
      "[CV] END base_estimator=LinearRegression(), learning_rate=0.01, n_estimators=500; total time=   1.3s\n",
      "[CV] END base_estimator=LinearRegression(), learning_rate=0.01, n_estimators=500; total time=   1.4s\n",
      "[CV] END base_estimator=LinearRegression(), learning_rate=0.01, n_estimators=500; total time=   1.4s\n",
      "[CV] END base_estimator=LinearRegression(), learning_rate=0.01, n_estimators=500; total time=   1.6s\n",
      "[CV] END base_estimator=LinearRegression(), learning_rate=0.01, n_estimators=500; total time=   1.4s\n",
      "[CV] END base_estimator=LinearRegression(), learning_rate=0.01, n_estimators=500; total time=   1.4s\n",
      "[CV] END base_estimator=LinearRegression(), learning_rate=0.01, n_estimators=600; total time=   1.7s\n",
      "[CV] END base_estimator=LinearRegression(), learning_rate=0.01, n_estimators=600; total time=   1.6s\n",
      "[CV] END base_estimator=LinearRegression(), learning_rate=0.01, n_estimators=600; total time=   1.9s\n",
      "[CV] END base_estimator=LinearRegression(), learning_rate=0.01, n_estimators=600; total time=   1.7s\n",
      "[CV] END base_estimator=LinearRegression(), learning_rate=0.01, n_estimators=600; total time=   1.7s\n",
      "[CV] END base_estimator=LinearRegression(), learning_rate=0.01, n_estimators=600; total time=   1.8s\n",
      "[CV] END base_estimator=LinearRegression(), learning_rate=0.01, n_estimators=600; total time=   1.8s\n",
      "[CV] END base_estimator=LinearRegression(), learning_rate=0.01, n_estimators=600; total time=   1.7s\n",
      "[CV] END base_estimator=LinearRegression(), learning_rate=0.01, n_estimators=600; total time=   2.0s\n",
      "[CV] END base_estimator=LinearRegression(), learning_rate=0.01, n_estimators=600; total time=   2.2s\n",
      "[CV] END base_estimator=LinearRegression(), learning_rate=0.01, n_estimators=700; total time=   2.3s\n",
      "[CV] END base_estimator=LinearRegression(), learning_rate=0.01, n_estimators=700; total time=   2.2s\n",
      "[CV] END base_estimator=LinearRegression(), learning_rate=0.01, n_estimators=700; total time=   2.2s\n",
      "[CV] END base_estimator=LinearRegression(), learning_rate=0.01, n_estimators=700; total time=   2.2s\n",
      "[CV] END base_estimator=LinearRegression(), learning_rate=0.01, n_estimators=700; total time=   1.9s\n",
      "[CV] END base_estimator=LinearRegression(), learning_rate=0.01, n_estimators=700; total time=   2.0s\n",
      "[CV] END base_estimator=LinearRegression(), learning_rate=0.01, n_estimators=700; total time=   1.9s\n",
      "[CV] END base_estimator=LinearRegression(), learning_rate=0.01, n_estimators=700; total time=   1.8s\n",
      "[CV] END base_estimator=LinearRegression(), learning_rate=0.01, n_estimators=700; total time=   1.9s\n",
      "[CV] END base_estimator=LinearRegression(), learning_rate=0.01, n_estimators=700; total time=   2.0s\n",
      "[CV] END base_estimator=LinearRegression(), learning_rate=0.01, n_estimators=800; total time=   1.8s\n",
      "[CV] END base_estimator=LinearRegression(), learning_rate=0.01, n_estimators=800; total time=   1.8s\n",
      "[CV] END base_estimator=LinearRegression(), learning_rate=0.01, n_estimators=800; total time=   1.9s\n",
      "[CV] END base_estimator=LinearRegression(), learning_rate=0.01, n_estimators=800; total time=   2.1s\n",
      "[CV] END base_estimator=LinearRegression(), learning_rate=0.01, n_estimators=800; total time=   1.6s\n",
      "[CV] END base_estimator=LinearRegression(), learning_rate=0.01, n_estimators=800; total time=   1.8s\n",
      "[CV] END base_estimator=LinearRegression(), learning_rate=0.01, n_estimators=800; total time=   1.9s\n",
      "[CV] END base_estimator=LinearRegression(), learning_rate=0.01, n_estimators=800; total time=   1.9s\n",
      "[CV] END base_estimator=LinearRegression(), learning_rate=0.01, n_estimators=800; total time=   1.8s\n",
      "[CV] END base_estimator=LinearRegression(), learning_rate=0.01, n_estimators=800; total time=   1.7s\n",
      "[CV] END base_estimator=LinearRegression(), learning_rate=0.01, n_estimators=900; total time=   1.8s\n"
     ]
    },
    {
     "name": "stdout",
     "output_type": "stream",
     "text": [
      "[CV] END base_estimator=LinearRegression(), learning_rate=0.01, n_estimators=900; total time=   1.9s\n",
      "[CV] END base_estimator=LinearRegression(), learning_rate=0.01, n_estimators=900; total time=   1.8s\n",
      "[CV] END base_estimator=LinearRegression(), learning_rate=0.01, n_estimators=900; total time=   1.7s\n",
      "[CV] END base_estimator=LinearRegression(), learning_rate=0.01, n_estimators=900; total time=   1.7s\n",
      "[CV] END base_estimator=LinearRegression(), learning_rate=0.01, n_estimators=900; total time=   2.0s\n",
      "[CV] END base_estimator=LinearRegression(), learning_rate=0.01, n_estimators=900; total time=   1.8s\n",
      "[CV] END base_estimator=LinearRegression(), learning_rate=0.01, n_estimators=900; total time=   2.1s\n",
      "[CV] END base_estimator=LinearRegression(), learning_rate=0.01, n_estimators=900; total time=   2.1s\n",
      "[CV] END base_estimator=LinearRegression(), learning_rate=0.01, n_estimators=900; total time=   2.1s\n",
      "[CV] END base_estimator=LinearRegression(), learning_rate=0.01, n_estimators=1000; total time=   1.9s\n",
      "[CV] END base_estimator=LinearRegression(), learning_rate=0.01, n_estimators=1000; total time=   1.9s\n",
      "[CV] END base_estimator=LinearRegression(), learning_rate=0.01, n_estimators=1000; total time=   1.7s\n",
      "[CV] END base_estimator=LinearRegression(), learning_rate=0.01, n_estimators=1000; total time=   1.8s\n",
      "[CV] END base_estimator=LinearRegression(), learning_rate=0.01, n_estimators=1000; total time=   1.9s\n",
      "[CV] END base_estimator=LinearRegression(), learning_rate=0.01, n_estimators=1000; total time=   1.6s\n",
      "[CV] END base_estimator=LinearRegression(), learning_rate=0.01, n_estimators=1000; total time=   1.9s\n",
      "[CV] END base_estimator=LinearRegression(), learning_rate=0.01, n_estimators=1000; total time=   2.0s\n",
      "[CV] END base_estimator=LinearRegression(), learning_rate=0.01, n_estimators=1000; total time=   2.1s\n",
      "[CV] END base_estimator=LinearRegression(), learning_rate=0.01, n_estimators=1000; total time=   1.9s\n",
      "[CV] END base_estimator=LinearRegression(), learning_rate=0.05, n_estimators=100; total time=   0.2s\n",
      "[CV] END base_estimator=LinearRegression(), learning_rate=0.05, n_estimators=100; total time=   0.2s\n",
      "[CV] END base_estimator=LinearRegression(), learning_rate=0.05, n_estimators=100; total time=   0.2s\n",
      "[CV] END base_estimator=LinearRegression(), learning_rate=0.05, n_estimators=100; total time=   0.2s\n",
      "[CV] END base_estimator=LinearRegression(), learning_rate=0.05, n_estimators=100; total time=   0.2s\n",
      "[CV] END base_estimator=LinearRegression(), learning_rate=0.05, n_estimators=100; total time=   0.2s\n",
      "[CV] END base_estimator=LinearRegression(), learning_rate=0.05, n_estimators=100; total time=   0.2s\n",
      "[CV] END base_estimator=LinearRegression(), learning_rate=0.05, n_estimators=100; total time=   0.2s\n",
      "[CV] END base_estimator=LinearRegression(), learning_rate=0.05, n_estimators=100; total time=   0.2s\n",
      "[CV] END base_estimator=LinearRegression(), learning_rate=0.05, n_estimators=100; total time=   0.2s\n",
      "[CV] END base_estimator=LinearRegression(), learning_rate=0.05, n_estimators=200; total time=   0.3s\n",
      "[CV] END base_estimator=LinearRegression(), learning_rate=0.05, n_estimators=200; total time=   0.3s\n",
      "[CV] END base_estimator=LinearRegression(), learning_rate=0.05, n_estimators=200; total time=   0.3s\n",
      "[CV] END base_estimator=LinearRegression(), learning_rate=0.05, n_estimators=200; total time=   0.3s\n",
      "[CV] END base_estimator=LinearRegression(), learning_rate=0.05, n_estimators=200; total time=   0.3s\n",
      "[CV] END base_estimator=LinearRegression(), learning_rate=0.05, n_estimators=200; total time=   0.2s\n",
      "[CV] END base_estimator=LinearRegression(), learning_rate=0.05, n_estimators=200; total time=   0.3s\n",
      "[CV] END base_estimator=LinearRegression(), learning_rate=0.05, n_estimators=200; total time=   0.3s\n",
      "[CV] END base_estimator=LinearRegression(), learning_rate=0.05, n_estimators=200; total time=   0.3s\n",
      "[CV] END base_estimator=LinearRegression(), learning_rate=0.05, n_estimators=200; total time=   0.4s\n",
      "[CV] END base_estimator=LinearRegression(), learning_rate=0.05, n_estimators=300; total time=   0.3s\n",
      "[CV] END base_estimator=LinearRegression(), learning_rate=0.05, n_estimators=300; total time=   0.3s\n",
      "[CV] END base_estimator=LinearRegression(), learning_rate=0.05, n_estimators=300; total time=   0.3s\n",
      "[CV] END base_estimator=LinearRegression(), learning_rate=0.05, n_estimators=300; total time=   0.4s\n",
      "[CV] END base_estimator=LinearRegression(), learning_rate=0.05, n_estimators=300; total time=   0.4s\n",
      "[CV] END base_estimator=LinearRegression(), learning_rate=0.05, n_estimators=300; total time=   0.3s\n",
      "[CV] END base_estimator=LinearRegression(), learning_rate=0.05, n_estimators=300; total time=   0.3s\n",
      "[CV] END base_estimator=LinearRegression(), learning_rate=0.05, n_estimators=300; total time=   0.4s\n",
      "[CV] END base_estimator=LinearRegression(), learning_rate=0.05, n_estimators=300; total time=   0.3s\n",
      "[CV] END base_estimator=LinearRegression(), learning_rate=0.05, n_estimators=300; total time=   0.4s\n",
      "[CV] END base_estimator=LinearRegression(), learning_rate=0.05, n_estimators=400; total time=   0.4s\n",
      "[CV] END base_estimator=LinearRegression(), learning_rate=0.05, n_estimators=400; total time=   0.4s\n",
      "[CV] END base_estimator=LinearRegression(), learning_rate=0.05, n_estimators=400; total time=   0.3s\n",
      "[CV] END base_estimator=LinearRegression(), learning_rate=0.05, n_estimators=400; total time=   0.3s\n",
      "[CV] END base_estimator=LinearRegression(), learning_rate=0.05, n_estimators=400; total time=   0.3s\n",
      "[CV] END base_estimator=LinearRegression(), learning_rate=0.05, n_estimators=400; total time=   0.4s\n",
      "[CV] END base_estimator=LinearRegression(), learning_rate=0.05, n_estimators=400; total time=   0.3s\n",
      "[CV] END base_estimator=LinearRegression(), learning_rate=0.05, n_estimators=400; total time=   0.4s\n",
      "[CV] END base_estimator=LinearRegression(), learning_rate=0.05, n_estimators=400; total time=   0.5s\n",
      "[CV] END base_estimator=LinearRegression(), learning_rate=0.05, n_estimators=400; total time=   0.6s\n",
      "[CV] END base_estimator=LinearRegression(), learning_rate=0.05, n_estimators=500; total time=   0.4s\n",
      "[CV] END base_estimator=LinearRegression(), learning_rate=0.05, n_estimators=500; total time=   0.4s\n",
      "[CV] END base_estimator=LinearRegression(), learning_rate=0.05, n_estimators=500; total time=   0.4s\n",
      "[CV] END base_estimator=LinearRegression(), learning_rate=0.05, n_estimators=500; total time=   0.3s\n",
      "[CV] END base_estimator=LinearRegression(), learning_rate=0.05, n_estimators=500; total time=   0.5s\n",
      "[CV] END base_estimator=LinearRegression(), learning_rate=0.05, n_estimators=500; total time=   0.5s\n",
      "[CV] END base_estimator=LinearRegression(), learning_rate=0.05, n_estimators=500; total time=   0.4s\n",
      "[CV] END base_estimator=LinearRegression(), learning_rate=0.05, n_estimators=500; total time=   0.4s\n",
      "[CV] END base_estimator=LinearRegression(), learning_rate=0.05, n_estimators=500; total time=   0.5s\n",
      "[CV] END base_estimator=LinearRegression(), learning_rate=0.05, n_estimators=500; total time=   0.4s\n",
      "[CV] END base_estimator=LinearRegression(), learning_rate=0.05, n_estimators=600; total time=   0.3s\n",
      "[CV] END base_estimator=LinearRegression(), learning_rate=0.05, n_estimators=600; total time=   0.4s\n",
      "[CV] END base_estimator=LinearRegression(), learning_rate=0.05, n_estimators=600; total time=   0.3s\n",
      "[CV] END base_estimator=LinearRegression(), learning_rate=0.05, n_estimators=600; total time=   0.5s\n",
      "[CV] END base_estimator=LinearRegression(), learning_rate=0.05, n_estimators=600; total time=   0.4s\n",
      "[CV] END base_estimator=LinearRegression(), learning_rate=0.05, n_estimators=600; total time=   0.3s\n",
      "[CV] END base_estimator=LinearRegression(), learning_rate=0.05, n_estimators=600; total time=   0.6s\n",
      "[CV] END base_estimator=LinearRegression(), learning_rate=0.05, n_estimators=600; total time=   0.3s\n",
      "[CV] END base_estimator=LinearRegression(), learning_rate=0.05, n_estimators=600; total time=   0.5s\n",
      "[CV] END base_estimator=LinearRegression(), learning_rate=0.05, n_estimators=600; total time=   0.4s\n",
      "[CV] END base_estimator=LinearRegression(), learning_rate=0.05, n_estimators=700; total time=   0.4s\n",
      "[CV] END base_estimator=LinearRegression(), learning_rate=0.05, n_estimators=700; total time=   0.4s\n",
      "[CV] END base_estimator=LinearRegression(), learning_rate=0.05, n_estimators=700; total time=   0.4s\n"
     ]
    },
    {
     "name": "stdout",
     "output_type": "stream",
     "text": [
      "[CV] END base_estimator=LinearRegression(), learning_rate=0.05, n_estimators=700; total time=   0.4s\n",
      "[CV] END base_estimator=LinearRegression(), learning_rate=0.05, n_estimators=700; total time=   0.3s\n",
      "[CV] END base_estimator=LinearRegression(), learning_rate=0.05, n_estimators=700; total time=   0.3s\n",
      "[CV] END base_estimator=LinearRegression(), learning_rate=0.05, n_estimators=700; total time=   0.3s\n",
      "[CV] END base_estimator=LinearRegression(), learning_rate=0.05, n_estimators=700; total time=   0.3s\n",
      "[CV] END base_estimator=LinearRegression(), learning_rate=0.05, n_estimators=700; total time=   0.4s\n",
      "[CV] END base_estimator=LinearRegression(), learning_rate=0.05, n_estimators=700; total time=   0.4s\n",
      "[CV] END base_estimator=LinearRegression(), learning_rate=0.05, n_estimators=800; total time=   0.4s\n",
      "[CV] END base_estimator=LinearRegression(), learning_rate=0.05, n_estimators=800; total time=   0.3s\n",
      "[CV] END base_estimator=LinearRegression(), learning_rate=0.05, n_estimators=800; total time=   0.3s\n",
      "[CV] END base_estimator=LinearRegression(), learning_rate=0.05, n_estimators=800; total time=   0.3s\n",
      "[CV] END base_estimator=LinearRegression(), learning_rate=0.05, n_estimators=800; total time=   0.4s\n",
      "[CV] END base_estimator=LinearRegression(), learning_rate=0.05, n_estimators=800; total time=   0.3s\n",
      "[CV] END base_estimator=LinearRegression(), learning_rate=0.05, n_estimators=800; total time=   0.3s\n",
      "[CV] END base_estimator=LinearRegression(), learning_rate=0.05, n_estimators=800; total time=   0.3s\n",
      "[CV] END base_estimator=LinearRegression(), learning_rate=0.05, n_estimators=800; total time=   0.4s\n",
      "[CV] END base_estimator=LinearRegression(), learning_rate=0.05, n_estimators=800; total time=   0.5s\n",
      "[CV] END base_estimator=LinearRegression(), learning_rate=0.05, n_estimators=900; total time=   0.4s\n",
      "[CV] END base_estimator=LinearRegression(), learning_rate=0.05, n_estimators=900; total time=   0.3s\n",
      "[CV] END base_estimator=LinearRegression(), learning_rate=0.05, n_estimators=900; total time=   0.3s\n",
      "[CV] END base_estimator=LinearRegression(), learning_rate=0.05, n_estimators=900; total time=   0.3s\n",
      "[CV] END base_estimator=LinearRegression(), learning_rate=0.05, n_estimators=900; total time=   0.4s\n",
      "[CV] END base_estimator=LinearRegression(), learning_rate=0.05, n_estimators=900; total time=   0.3s\n",
      "[CV] END base_estimator=LinearRegression(), learning_rate=0.05, n_estimators=900; total time=   0.3s\n",
      "[CV] END base_estimator=LinearRegression(), learning_rate=0.05, n_estimators=900; total time=   0.3s\n",
      "[CV] END base_estimator=LinearRegression(), learning_rate=0.05, n_estimators=900; total time=   0.3s\n",
      "[CV] END base_estimator=LinearRegression(), learning_rate=0.05, n_estimators=900; total time=   0.4s\n",
      "[CV] END base_estimator=LinearRegression(), learning_rate=0.05, n_estimators=1000; total time=   0.4s\n",
      "[CV] END base_estimator=LinearRegression(), learning_rate=0.05, n_estimators=1000; total time=   0.3s\n",
      "[CV] END base_estimator=LinearRegression(), learning_rate=0.05, n_estimators=1000; total time=   0.3s\n",
      "[CV] END base_estimator=LinearRegression(), learning_rate=0.05, n_estimators=1000; total time=   0.4s\n",
      "[CV] END base_estimator=LinearRegression(), learning_rate=0.05, n_estimators=1000; total time=   0.4s\n",
      "[CV] END base_estimator=LinearRegression(), learning_rate=0.05, n_estimators=1000; total time=   0.3s\n",
      "[CV] END base_estimator=LinearRegression(), learning_rate=0.05, n_estimators=1000; total time=   0.3s\n",
      "[CV] END base_estimator=LinearRegression(), learning_rate=0.05, n_estimators=1000; total time=   0.3s\n",
      "[CV] END base_estimator=LinearRegression(), learning_rate=0.05, n_estimators=1000; total time=   0.4s\n",
      "[CV] END base_estimator=LinearRegression(), learning_rate=0.05, n_estimators=1000; total time=   0.4s\n",
      "[CV] END base_estimator=LinearRegression(), learning_rate=0.1, n_estimators=100; total time=   0.2s\n",
      "[CV] END base_estimator=LinearRegression(), learning_rate=0.1, n_estimators=100; total time=   0.2s\n",
      "[CV] END base_estimator=LinearRegression(), learning_rate=0.1, n_estimators=100; total time=   0.1s\n",
      "[CV] END base_estimator=LinearRegression(), learning_rate=0.1, n_estimators=100; total time=   0.1s\n",
      "[CV] END base_estimator=LinearRegression(), learning_rate=0.1, n_estimators=100; total time=   0.2s\n",
      "[CV] END base_estimator=LinearRegression(), learning_rate=0.1, n_estimators=100; total time=   0.1s\n",
      "[CV] END base_estimator=LinearRegression(), learning_rate=0.1, n_estimators=100; total time=   0.3s\n",
      "[CV] END base_estimator=LinearRegression(), learning_rate=0.1, n_estimators=100; total time=   0.2s\n",
      "[CV] END base_estimator=LinearRegression(), learning_rate=0.1, n_estimators=100; total time=   0.3s\n",
      "[CV] END base_estimator=LinearRegression(), learning_rate=0.1, n_estimators=100; total time=   0.3s\n",
      "[CV] END base_estimator=LinearRegression(), learning_rate=0.1, n_estimators=200; total time=   0.1s\n",
      "[CV] END base_estimator=LinearRegression(), learning_rate=0.1, n_estimators=200; total time=   0.1s\n",
      "[CV] END base_estimator=LinearRegression(), learning_rate=0.1, n_estimators=200; total time=   0.1s\n",
      "[CV] END base_estimator=LinearRegression(), learning_rate=0.1, n_estimators=200; total time=   0.2s\n",
      "[CV] END base_estimator=LinearRegression(), learning_rate=0.1, n_estimators=200; total time=   0.1s\n",
      "[CV] END base_estimator=LinearRegression(), learning_rate=0.1, n_estimators=200; total time=   0.1s\n",
      "[CV] END base_estimator=LinearRegression(), learning_rate=0.1, n_estimators=200; total time=   0.2s\n",
      "[CV] END base_estimator=LinearRegression(), learning_rate=0.1, n_estimators=200; total time=   0.1s\n",
      "[CV] END base_estimator=LinearRegression(), learning_rate=0.1, n_estimators=200; total time=   0.2s\n",
      "[CV] END base_estimator=LinearRegression(), learning_rate=0.1, n_estimators=200; total time=   0.2s\n",
      "[CV] END base_estimator=LinearRegression(), learning_rate=0.1, n_estimators=300; total time=   0.2s\n",
      "[CV] END base_estimator=LinearRegression(), learning_rate=0.1, n_estimators=300; total time=   0.2s\n",
      "[CV] END base_estimator=LinearRegression(), learning_rate=0.1, n_estimators=300; total time=   0.1s\n",
      "[CV] END base_estimator=LinearRegression(), learning_rate=0.1, n_estimators=300; total time=   0.1s\n",
      "[CV] END base_estimator=LinearRegression(), learning_rate=0.1, n_estimators=300; total time=   0.2s\n",
      "[CV] END base_estimator=LinearRegression(), learning_rate=0.1, n_estimators=300; total time=   0.1s\n",
      "[CV] END base_estimator=LinearRegression(), learning_rate=0.1, n_estimators=300; total time=   0.1s\n",
      "[CV] END base_estimator=LinearRegression(), learning_rate=0.1, n_estimators=300; total time=   0.1s\n",
      "[CV] END base_estimator=LinearRegression(), learning_rate=0.1, n_estimators=300; total time=   0.2s\n",
      "[CV] END base_estimator=LinearRegression(), learning_rate=0.1, n_estimators=300; total time=   0.2s\n",
      "[CV] END base_estimator=LinearRegression(), learning_rate=0.1, n_estimators=400; total time=   0.2s\n",
      "[CV] END base_estimator=LinearRegression(), learning_rate=0.1, n_estimators=400; total time=   0.2s\n",
      "[CV] END base_estimator=LinearRegression(), learning_rate=0.1, n_estimators=400; total time=   0.1s\n",
      "[CV] END base_estimator=LinearRegression(), learning_rate=0.1, n_estimators=400; total time=   0.1s\n",
      "[CV] END base_estimator=LinearRegression(), learning_rate=0.1, n_estimators=400; total time=   0.1s\n",
      "[CV] END base_estimator=LinearRegression(), learning_rate=0.1, n_estimators=400; total time=   0.2s\n",
      "[CV] END base_estimator=LinearRegression(), learning_rate=0.1, n_estimators=400; total time=   0.2s\n",
      "[CV] END base_estimator=LinearRegression(), learning_rate=0.1, n_estimators=400; total time=   0.2s\n",
      "[CV] END base_estimator=LinearRegression(), learning_rate=0.1, n_estimators=400; total time=   0.3s\n",
      "[CV] END base_estimator=LinearRegression(), learning_rate=0.1, n_estimators=400; total time=   0.3s\n",
      "[CV] END base_estimator=LinearRegression(), learning_rate=0.1, n_estimators=500; total time=   0.1s\n",
      "[CV] END base_estimator=LinearRegression(), learning_rate=0.1, n_estimators=500; total time=   0.1s\n",
      "[CV] END base_estimator=LinearRegression(), learning_rate=0.1, n_estimators=500; total time=   0.2s\n",
      "[CV] END base_estimator=LinearRegression(), learning_rate=0.1, n_estimators=500; total time=   0.3s\n",
      "[CV] END base_estimator=LinearRegression(), learning_rate=0.1, n_estimators=500; total time=   0.1s\n"
     ]
    },
    {
     "name": "stdout",
     "output_type": "stream",
     "text": [
      "[CV] END base_estimator=LinearRegression(), learning_rate=0.1, n_estimators=500; total time=   0.2s\n",
      "[CV] END base_estimator=LinearRegression(), learning_rate=0.1, n_estimators=500; total time=   0.1s\n",
      "[CV] END base_estimator=LinearRegression(), learning_rate=0.1, n_estimators=500; total time=   0.1s\n",
      "[CV] END base_estimator=LinearRegression(), learning_rate=0.1, n_estimators=500; total time=   0.2s\n",
      "[CV] END base_estimator=LinearRegression(), learning_rate=0.1, n_estimators=500; total time=   0.2s\n",
      "[CV] END base_estimator=LinearRegression(), learning_rate=0.1, n_estimators=600; total time=   0.1s\n",
      "[CV] END base_estimator=LinearRegression(), learning_rate=0.1, n_estimators=600; total time=   0.1s\n",
      "[CV] END base_estimator=LinearRegression(), learning_rate=0.1, n_estimators=600; total time=   0.2s\n",
      "[CV] END base_estimator=LinearRegression(), learning_rate=0.1, n_estimators=600; total time=   0.2s\n",
      "[CV] END base_estimator=LinearRegression(), learning_rate=0.1, n_estimators=600; total time=   0.2s\n",
      "[CV] END base_estimator=LinearRegression(), learning_rate=0.1, n_estimators=600; total time=   0.2s\n",
      "[CV] END base_estimator=LinearRegression(), learning_rate=0.1, n_estimators=600; total time=   0.1s\n",
      "[CV] END base_estimator=LinearRegression(), learning_rate=0.1, n_estimators=600; total time=   0.2s\n",
      "[CV] END base_estimator=LinearRegression(), learning_rate=0.1, n_estimators=600; total time=   0.2s\n",
      "[CV] END base_estimator=LinearRegression(), learning_rate=0.1, n_estimators=600; total time=   0.2s\n",
      "[CV] END base_estimator=LinearRegression(), learning_rate=0.1, n_estimators=700; total time=   0.1s\n",
      "[CV] END base_estimator=LinearRegression(), learning_rate=0.1, n_estimators=700; total time=   0.1s\n",
      "[CV] END base_estimator=LinearRegression(), learning_rate=0.1, n_estimators=700; total time=   0.2s\n",
      "[CV] END base_estimator=LinearRegression(), learning_rate=0.1, n_estimators=700; total time=   0.1s\n",
      "[CV] END base_estimator=LinearRegression(), learning_rate=0.1, n_estimators=700; total time=   0.2s\n",
      "[CV] END base_estimator=LinearRegression(), learning_rate=0.1, n_estimators=700; total time=   0.1s\n",
      "[CV] END base_estimator=LinearRegression(), learning_rate=0.1, n_estimators=700; total time=   0.1s\n",
      "[CV] END base_estimator=LinearRegression(), learning_rate=0.1, n_estimators=700; total time=   0.1s\n",
      "[CV] END base_estimator=LinearRegression(), learning_rate=0.1, n_estimators=700; total time=   0.2s\n",
      "[CV] END base_estimator=LinearRegression(), learning_rate=0.1, n_estimators=700; total time=   0.2s\n",
      "[CV] END base_estimator=LinearRegression(), learning_rate=0.1, n_estimators=800; total time=   0.1s\n",
      "[CV] END base_estimator=LinearRegression(), learning_rate=0.1, n_estimators=800; total time=   0.1s\n",
      "[CV] END base_estimator=LinearRegression(), learning_rate=0.1, n_estimators=800; total time=   0.2s\n",
      "[CV] END base_estimator=LinearRegression(), learning_rate=0.1, n_estimators=800; total time=   0.2s\n",
      "[CV] END base_estimator=LinearRegression(), learning_rate=0.1, n_estimators=800; total time=   0.1s\n",
      "[CV] END base_estimator=LinearRegression(), learning_rate=0.1, n_estimators=800; total time=   0.1s\n",
      "[CV] END base_estimator=LinearRegression(), learning_rate=0.1, n_estimators=800; total time=   0.2s\n",
      "[CV] END base_estimator=LinearRegression(), learning_rate=0.1, n_estimators=800; total time=   0.4s\n",
      "[CV] END base_estimator=LinearRegression(), learning_rate=0.1, n_estimators=800; total time=   0.3s\n",
      "[CV] END base_estimator=LinearRegression(), learning_rate=0.1, n_estimators=800; total time=   0.1s\n",
      "[CV] END base_estimator=LinearRegression(), learning_rate=0.1, n_estimators=900; total time=   0.1s\n",
      "[CV] END base_estimator=LinearRegression(), learning_rate=0.1, n_estimators=900; total time=   0.1s\n",
      "[CV] END base_estimator=LinearRegression(), learning_rate=0.1, n_estimators=900; total time=   0.2s\n",
      "[CV] END base_estimator=LinearRegression(), learning_rate=0.1, n_estimators=900; total time=   0.1s\n",
      "[CV] END base_estimator=LinearRegression(), learning_rate=0.1, n_estimators=900; total time=   0.1s\n",
      "[CV] END base_estimator=LinearRegression(), learning_rate=0.1, n_estimators=900; total time=   0.2s\n",
      "[CV] END base_estimator=LinearRegression(), learning_rate=0.1, n_estimators=900; total time=   0.2s\n",
      "[CV] END base_estimator=LinearRegression(), learning_rate=0.1, n_estimators=900; total time=   0.1s\n",
      "[CV] END base_estimator=LinearRegression(), learning_rate=0.1, n_estimators=900; total time=   0.1s\n",
      "[CV] END base_estimator=LinearRegression(), learning_rate=0.1, n_estimators=900; total time=   0.2s\n",
      "[CV] END base_estimator=LinearRegression(), learning_rate=0.1, n_estimators=1000; total time=   0.1s\n",
      "[CV] END base_estimator=LinearRegression(), learning_rate=0.1, n_estimators=1000; total time=   0.1s\n",
      "[CV] END base_estimator=LinearRegression(), learning_rate=0.1, n_estimators=1000; total time=   0.2s\n",
      "[CV] END base_estimator=LinearRegression(), learning_rate=0.1, n_estimators=1000; total time=   0.1s\n",
      "[CV] END base_estimator=LinearRegression(), learning_rate=0.1, n_estimators=1000; total time=   0.1s\n",
      "[CV] END base_estimator=LinearRegression(), learning_rate=0.1, n_estimators=1000; total time=   0.1s\n",
      "[CV] END base_estimator=LinearRegression(), learning_rate=0.1, n_estimators=1000; total time=   0.2s\n",
      "[CV] END base_estimator=LinearRegression(), learning_rate=0.1, n_estimators=1000; total time=   0.2s\n",
      "[CV] END base_estimator=LinearRegression(), learning_rate=0.1, n_estimators=1000; total time=   0.1s\n",
      "[CV] END base_estimator=LinearRegression(), learning_rate=0.1, n_estimators=1000; total time=   0.2s\n",
      "[CV] END base_estimator=LinearRegression(), learning_rate=0.5, n_estimators=100; total time=   0.0s\n",
      "[CV] END base_estimator=LinearRegression(), learning_rate=0.5, n_estimators=100; total time=   0.0s\n",
      "[CV] END base_estimator=LinearRegression(), learning_rate=0.5, n_estimators=100; total time=   0.0s\n",
      "[CV] END base_estimator=LinearRegression(), learning_rate=0.5, n_estimators=100; total time=   0.0s\n",
      "[CV] END base_estimator=LinearRegression(), learning_rate=0.5, n_estimators=100; total time=   0.0s\n",
      "[CV] END base_estimator=LinearRegression(), learning_rate=0.5, n_estimators=100; total time=   0.0s\n",
      "[CV] END base_estimator=LinearRegression(), learning_rate=0.5, n_estimators=100; total time=   0.0s\n",
      "[CV] END base_estimator=LinearRegression(), learning_rate=0.5, n_estimators=100; total time=   0.0s\n",
      "[CV] END base_estimator=LinearRegression(), learning_rate=0.5, n_estimators=100; total time=   0.0s\n",
      "[CV] END base_estimator=LinearRegression(), learning_rate=0.5, n_estimators=100; total time=   0.0s\n",
      "[CV] END base_estimator=LinearRegression(), learning_rate=0.5, n_estimators=200; total time=   0.0s\n",
      "[CV] END base_estimator=LinearRegression(), learning_rate=0.5, n_estimators=200; total time=   0.0s\n",
      "[CV] END base_estimator=LinearRegression(), learning_rate=0.5, n_estimators=200; total time=   0.0s\n",
      "[CV] END base_estimator=LinearRegression(), learning_rate=0.5, n_estimators=200; total time=   0.0s\n",
      "[CV] END base_estimator=LinearRegression(), learning_rate=0.5, n_estimators=200; total time=   0.0s\n",
      "[CV] END base_estimator=LinearRegression(), learning_rate=0.5, n_estimators=200; total time=   0.0s\n",
      "[CV] END base_estimator=LinearRegression(), learning_rate=0.5, n_estimators=200; total time=   0.0s\n",
      "[CV] END base_estimator=LinearRegression(), learning_rate=0.5, n_estimators=200; total time=   0.0s\n",
      "[CV] END base_estimator=LinearRegression(), learning_rate=0.5, n_estimators=200; total time=   0.0s\n",
      "[CV] END base_estimator=LinearRegression(), learning_rate=0.5, n_estimators=200; total time=   0.0s\n",
      "[CV] END base_estimator=LinearRegression(), learning_rate=0.5, n_estimators=300; total time=   0.0s\n",
      "[CV] END base_estimator=LinearRegression(), learning_rate=0.5, n_estimators=300; total time=   0.0s\n",
      "[CV] END base_estimator=LinearRegression(), learning_rate=0.5, n_estimators=300; total time=   0.0s\n",
      "[CV] END base_estimator=LinearRegression(), learning_rate=0.5, n_estimators=300; total time=   0.0s\n",
      "[CV] END base_estimator=LinearRegression(), learning_rate=0.5, n_estimators=300; total time=   0.0s\n",
      "[CV] END base_estimator=LinearRegression(), learning_rate=0.5, n_estimators=300; total time=   0.0s\n",
      "[CV] END base_estimator=LinearRegression(), learning_rate=0.5, n_estimators=300; total time=   0.0s\n",
      "[CV] END base_estimator=LinearRegression(), learning_rate=0.5, n_estimators=300; total time=   0.0s\n"
     ]
    },
    {
     "name": "stdout",
     "output_type": "stream",
     "text": [
      "[CV] END base_estimator=LinearRegression(), learning_rate=0.5, n_estimators=300; total time=   0.0s\n",
      "[CV] END base_estimator=LinearRegression(), learning_rate=0.5, n_estimators=300; total time=   0.0s\n",
      "[CV] END base_estimator=LinearRegression(), learning_rate=0.5, n_estimators=400; total time=   0.0s\n",
      "[CV] END base_estimator=LinearRegression(), learning_rate=0.5, n_estimators=400; total time=   0.0s\n",
      "[CV] END base_estimator=LinearRegression(), learning_rate=0.5, n_estimators=400; total time=   0.0s\n",
      "[CV] END base_estimator=LinearRegression(), learning_rate=0.5, n_estimators=400; total time=   0.0s\n",
      "[CV] END base_estimator=LinearRegression(), learning_rate=0.5, n_estimators=400; total time=   0.0s\n",
      "[CV] END base_estimator=LinearRegression(), learning_rate=0.5, n_estimators=400; total time=   0.0s\n",
      "[CV] END base_estimator=LinearRegression(), learning_rate=0.5, n_estimators=400; total time=   0.0s\n",
      "[CV] END base_estimator=LinearRegression(), learning_rate=0.5, n_estimators=400; total time=   0.0s\n",
      "[CV] END base_estimator=LinearRegression(), learning_rate=0.5, n_estimators=400; total time=   0.0s\n",
      "[CV] END base_estimator=LinearRegression(), learning_rate=0.5, n_estimators=400; total time=   0.0s\n",
      "[CV] END base_estimator=LinearRegression(), learning_rate=0.5, n_estimators=500; total time=   0.0s\n",
      "[CV] END base_estimator=LinearRegression(), learning_rate=0.5, n_estimators=500; total time=   0.0s\n",
      "[CV] END base_estimator=LinearRegression(), learning_rate=0.5, n_estimators=500; total time=   0.0s\n",
      "[CV] END base_estimator=LinearRegression(), learning_rate=0.5, n_estimators=500; total time=   0.0s\n",
      "[CV] END base_estimator=LinearRegression(), learning_rate=0.5, n_estimators=500; total time=   0.0s\n",
      "[CV] END base_estimator=LinearRegression(), learning_rate=0.5, n_estimators=500; total time=   0.0s\n",
      "[CV] END base_estimator=LinearRegression(), learning_rate=0.5, n_estimators=500; total time=   0.0s\n",
      "[CV] END base_estimator=LinearRegression(), learning_rate=0.5, n_estimators=500; total time=   0.0s\n",
      "[CV] END base_estimator=LinearRegression(), learning_rate=0.5, n_estimators=500; total time=   0.0s\n",
      "[CV] END base_estimator=LinearRegression(), learning_rate=0.5, n_estimators=500; total time=   0.0s\n",
      "[CV] END base_estimator=LinearRegression(), learning_rate=0.5, n_estimators=600; total time=   0.0s\n",
      "[CV] END base_estimator=LinearRegression(), learning_rate=0.5, n_estimators=600; total time=   0.0s\n",
      "[CV] END base_estimator=LinearRegression(), learning_rate=0.5, n_estimators=600; total time=   0.0s\n",
      "[CV] END base_estimator=LinearRegression(), learning_rate=0.5, n_estimators=600; total time=   0.0s\n",
      "[CV] END base_estimator=LinearRegression(), learning_rate=0.5, n_estimators=600; total time=   0.0s\n",
      "[CV] END base_estimator=LinearRegression(), learning_rate=0.5, n_estimators=600; total time=   0.0s\n",
      "[CV] END base_estimator=LinearRegression(), learning_rate=0.5, n_estimators=600; total time=   0.0s\n",
      "[CV] END base_estimator=LinearRegression(), learning_rate=0.5, n_estimators=600; total time=   0.0s\n",
      "[CV] END base_estimator=LinearRegression(), learning_rate=0.5, n_estimators=600; total time=   0.0s\n",
      "[CV] END base_estimator=LinearRegression(), learning_rate=0.5, n_estimators=600; total time=   0.0s\n",
      "[CV] END base_estimator=LinearRegression(), learning_rate=0.5, n_estimators=700; total time=   0.0s\n",
      "[CV] END base_estimator=LinearRegression(), learning_rate=0.5, n_estimators=700; total time=   0.0s\n",
      "[CV] END base_estimator=LinearRegression(), learning_rate=0.5, n_estimators=700; total time=   0.0s\n",
      "[CV] END base_estimator=LinearRegression(), learning_rate=0.5, n_estimators=700; total time=   0.0s\n",
      "[CV] END base_estimator=LinearRegression(), learning_rate=0.5, n_estimators=700; total time=   0.0s\n",
      "[CV] END base_estimator=LinearRegression(), learning_rate=0.5, n_estimators=700; total time=   0.0s\n",
      "[CV] END base_estimator=LinearRegression(), learning_rate=0.5, n_estimators=700; total time=   0.0s\n",
      "[CV] END base_estimator=LinearRegression(), learning_rate=0.5, n_estimators=700; total time=   0.0s\n",
      "[CV] END base_estimator=LinearRegression(), learning_rate=0.5, n_estimators=700; total time=   0.0s\n",
      "[CV] END base_estimator=LinearRegression(), learning_rate=0.5, n_estimators=700; total time=   0.0s\n",
      "[CV] END base_estimator=LinearRegression(), learning_rate=0.5, n_estimators=800; total time=   0.0s\n",
      "[CV] END base_estimator=LinearRegression(), learning_rate=0.5, n_estimators=800; total time=   0.0s\n",
      "[CV] END base_estimator=LinearRegression(), learning_rate=0.5, n_estimators=800; total time=   0.0s\n",
      "[CV] END base_estimator=LinearRegression(), learning_rate=0.5, n_estimators=800; total time=   0.0s\n",
      "[CV] END base_estimator=LinearRegression(), learning_rate=0.5, n_estimators=800; total time=   0.0s\n",
      "[CV] END base_estimator=LinearRegression(), learning_rate=0.5, n_estimators=800; total time=   0.0s\n",
      "[CV] END base_estimator=LinearRegression(), learning_rate=0.5, n_estimators=800; total time=   0.0s\n",
      "[CV] END base_estimator=LinearRegression(), learning_rate=0.5, n_estimators=800; total time=   0.0s\n",
      "[CV] END base_estimator=LinearRegression(), learning_rate=0.5, n_estimators=800; total time=   0.0s\n",
      "[CV] END base_estimator=LinearRegression(), learning_rate=0.5, n_estimators=800; total time=   0.0s\n",
      "[CV] END base_estimator=LinearRegression(), learning_rate=0.5, n_estimators=900; total time=   0.0s\n",
      "[CV] END base_estimator=LinearRegression(), learning_rate=0.5, n_estimators=900; total time=   0.0s\n",
      "[CV] END base_estimator=LinearRegression(), learning_rate=0.5, n_estimators=900; total time=   0.0s\n",
      "[CV] END base_estimator=LinearRegression(), learning_rate=0.5, n_estimators=900; total time=   0.0s\n",
      "[CV] END base_estimator=LinearRegression(), learning_rate=0.5, n_estimators=900; total time=   0.0s\n",
      "[CV] END base_estimator=LinearRegression(), learning_rate=0.5, n_estimators=900; total time=   0.0s\n",
      "[CV] END base_estimator=LinearRegression(), learning_rate=0.5, n_estimators=900; total time=   0.0s\n",
      "[CV] END base_estimator=LinearRegression(), learning_rate=0.5, n_estimators=900; total time=   0.0s\n",
      "[CV] END base_estimator=LinearRegression(), learning_rate=0.5, n_estimators=900; total time=   0.0s\n",
      "[CV] END base_estimator=LinearRegression(), learning_rate=0.5, n_estimators=900; total time=   0.0s\n",
      "[CV] END base_estimator=LinearRegression(), learning_rate=0.5, n_estimators=1000; total time=   0.0s\n",
      "[CV] END base_estimator=LinearRegression(), learning_rate=0.5, n_estimators=1000; total time=   0.0s\n",
      "[CV] END base_estimator=LinearRegression(), learning_rate=0.5, n_estimators=1000; total time=   0.0s\n",
      "[CV] END base_estimator=LinearRegression(), learning_rate=0.5, n_estimators=1000; total time=   0.0s\n",
      "[CV] END base_estimator=LinearRegression(), learning_rate=0.5, n_estimators=1000; total time=   0.0s\n",
      "[CV] END base_estimator=LinearRegression(), learning_rate=0.5, n_estimators=1000; total time=   0.0s\n",
      "[CV] END base_estimator=LinearRegression(), learning_rate=0.5, n_estimators=1000; total time=   0.0s\n",
      "[CV] END base_estimator=LinearRegression(), learning_rate=0.5, n_estimators=1000; total time=   0.0s\n",
      "[CV] END base_estimator=LinearRegression(), learning_rate=0.5, n_estimators=1000; total time=   0.0s\n",
      "[CV] END base_estimator=LinearRegression(), learning_rate=0.5, n_estimators=1000; total time=   0.0s\n",
      "[CV] END base_estimator=LinearRegression(), learning_rate=1.0, n_estimators=100; total time=   0.0s\n",
      "[CV] END base_estimator=LinearRegression(), learning_rate=1.0, n_estimators=100; total time=   0.0s\n",
      "[CV] END base_estimator=LinearRegression(), learning_rate=1.0, n_estimators=100; total time=   0.0s\n",
      "[CV] END base_estimator=LinearRegression(), learning_rate=1.0, n_estimators=100; total time=   0.0s\n",
      "[CV] END base_estimator=LinearRegression(), learning_rate=1.0, n_estimators=100; total time=   0.0s\n",
      "[CV] END base_estimator=LinearRegression(), learning_rate=1.0, n_estimators=100; total time=   0.0s\n",
      "[CV] END base_estimator=LinearRegression(), learning_rate=1.0, n_estimators=100; total time=   0.0s\n",
      "[CV] END base_estimator=LinearRegression(), learning_rate=1.0, n_estimators=100; total time=   0.0s\n",
      "[CV] END base_estimator=LinearRegression(), learning_rate=1.0, n_estimators=100; total time=   0.0s\n",
      "[CV] END base_estimator=LinearRegression(), learning_rate=1.0, n_estimators=100; total time=   0.0s\n",
      "[CV] END base_estimator=LinearRegression(), learning_rate=1.0, n_estimators=200; total time=   0.0s\n",
      "[CV] END base_estimator=LinearRegression(), learning_rate=1.0, n_estimators=200; total time=   0.0s\n",
      "[CV] END base_estimator=LinearRegression(), learning_rate=1.0, n_estimators=200; total time=   0.0s\n",
      "[CV] END base_estimator=LinearRegression(), learning_rate=1.0, n_estimators=200; total time=   0.0s\n",
      "[CV] END base_estimator=LinearRegression(), learning_rate=1.0, n_estimators=200; total time=   0.0s\n"
     ]
    },
    {
     "name": "stdout",
     "output_type": "stream",
     "text": [
      "[CV] END base_estimator=LinearRegression(), learning_rate=1.0, n_estimators=200; total time=   0.0s\n",
      "[CV] END base_estimator=LinearRegression(), learning_rate=1.0, n_estimators=200; total time=   0.0s\n",
      "[CV] END base_estimator=LinearRegression(), learning_rate=1.0, n_estimators=200; total time=   0.0s\n",
      "[CV] END base_estimator=LinearRegression(), learning_rate=1.0, n_estimators=200; total time=   0.0s\n",
      "[CV] END base_estimator=LinearRegression(), learning_rate=1.0, n_estimators=200; total time=   0.0s\n",
      "[CV] END base_estimator=LinearRegression(), learning_rate=1.0, n_estimators=300; total time=   0.0s\n",
      "[CV] END base_estimator=LinearRegression(), learning_rate=1.0, n_estimators=300; total time=   0.0s\n",
      "[CV] END base_estimator=LinearRegression(), learning_rate=1.0, n_estimators=300; total time=   0.0s\n",
      "[CV] END base_estimator=LinearRegression(), learning_rate=1.0, n_estimators=300; total time=   0.0s\n",
      "[CV] END base_estimator=LinearRegression(), learning_rate=1.0, n_estimators=300; total time=   0.0s\n",
      "[CV] END base_estimator=LinearRegression(), learning_rate=1.0, n_estimators=300; total time=   0.0s\n",
      "[CV] END base_estimator=LinearRegression(), learning_rate=1.0, n_estimators=300; total time=   0.0s\n",
      "[CV] END base_estimator=LinearRegression(), learning_rate=1.0, n_estimators=300; total time=   0.0s\n",
      "[CV] END base_estimator=LinearRegression(), learning_rate=1.0, n_estimators=300; total time=   0.0s\n",
      "[CV] END base_estimator=LinearRegression(), learning_rate=1.0, n_estimators=300; total time=   0.0s\n",
      "[CV] END base_estimator=LinearRegression(), learning_rate=1.0, n_estimators=400; total time=   0.0s\n",
      "[CV] END base_estimator=LinearRegression(), learning_rate=1.0, n_estimators=400; total time=   0.0s\n",
      "[CV] END base_estimator=LinearRegression(), learning_rate=1.0, n_estimators=400; total time=   0.0s\n",
      "[CV] END base_estimator=LinearRegression(), learning_rate=1.0, n_estimators=400; total time=   0.0s\n",
      "[CV] END base_estimator=LinearRegression(), learning_rate=1.0, n_estimators=400; total time=   0.0s\n",
      "[CV] END base_estimator=LinearRegression(), learning_rate=1.0, n_estimators=400; total time=   0.0s\n",
      "[CV] END base_estimator=LinearRegression(), learning_rate=1.0, n_estimators=400; total time=   0.0s\n",
      "[CV] END base_estimator=LinearRegression(), learning_rate=1.0, n_estimators=400; total time=   0.0s\n",
      "[CV] END base_estimator=LinearRegression(), learning_rate=1.0, n_estimators=400; total time=   0.0s\n",
      "[CV] END base_estimator=LinearRegression(), learning_rate=1.0, n_estimators=400; total time=   0.0s\n",
      "[CV] END base_estimator=LinearRegression(), learning_rate=1.0, n_estimators=500; total time=   0.0s\n",
      "[CV] END base_estimator=LinearRegression(), learning_rate=1.0, n_estimators=500; total time=   0.0s\n",
      "[CV] END base_estimator=LinearRegression(), learning_rate=1.0, n_estimators=500; total time=   0.0s\n",
      "[CV] END base_estimator=LinearRegression(), learning_rate=1.0, n_estimators=500; total time=   0.0s\n",
      "[CV] END base_estimator=LinearRegression(), learning_rate=1.0, n_estimators=500; total time=   0.0s\n",
      "[CV] END base_estimator=LinearRegression(), learning_rate=1.0, n_estimators=500; total time=   0.0s\n",
      "[CV] END base_estimator=LinearRegression(), learning_rate=1.0, n_estimators=500; total time=   0.0s\n",
      "[CV] END base_estimator=LinearRegression(), learning_rate=1.0, n_estimators=500; total time=   0.0s\n",
      "[CV] END base_estimator=LinearRegression(), learning_rate=1.0, n_estimators=500; total time=   0.0s\n",
      "[CV] END base_estimator=LinearRegression(), learning_rate=1.0, n_estimators=500; total time=   0.0s\n",
      "[CV] END base_estimator=LinearRegression(), learning_rate=1.0, n_estimators=600; total time=   0.0s\n",
      "[CV] END base_estimator=LinearRegression(), learning_rate=1.0, n_estimators=600; total time=   0.0s\n",
      "[CV] END base_estimator=LinearRegression(), learning_rate=1.0, n_estimators=600; total time=   0.0s\n",
      "[CV] END base_estimator=LinearRegression(), learning_rate=1.0, n_estimators=600; total time=   0.0s\n",
      "[CV] END base_estimator=LinearRegression(), learning_rate=1.0, n_estimators=600; total time=   0.0s\n",
      "[CV] END base_estimator=LinearRegression(), learning_rate=1.0, n_estimators=600; total time=   0.0s\n",
      "[CV] END base_estimator=LinearRegression(), learning_rate=1.0, n_estimators=600; total time=   0.0s\n",
      "[CV] END base_estimator=LinearRegression(), learning_rate=1.0, n_estimators=600; total time=   0.0s\n",
      "[CV] END base_estimator=LinearRegression(), learning_rate=1.0, n_estimators=600; total time=   0.0s\n",
      "[CV] END base_estimator=LinearRegression(), learning_rate=1.0, n_estimators=600; total time=   0.0s\n",
      "[CV] END base_estimator=LinearRegression(), learning_rate=1.0, n_estimators=700; total time=   0.0s\n",
      "[CV] END base_estimator=LinearRegression(), learning_rate=1.0, n_estimators=700; total time=   0.0s\n",
      "[CV] END base_estimator=LinearRegression(), learning_rate=1.0, n_estimators=700; total time=   0.0s\n",
      "[CV] END base_estimator=LinearRegression(), learning_rate=1.0, n_estimators=700; total time=   0.0s\n",
      "[CV] END base_estimator=LinearRegression(), learning_rate=1.0, n_estimators=700; total time=   0.0s\n",
      "[CV] END base_estimator=LinearRegression(), learning_rate=1.0, n_estimators=700; total time=   0.0s\n",
      "[CV] END base_estimator=LinearRegression(), learning_rate=1.0, n_estimators=700; total time=   0.0s\n",
      "[CV] END base_estimator=LinearRegression(), learning_rate=1.0, n_estimators=700; total time=   0.0s\n",
      "[CV] END base_estimator=LinearRegression(), learning_rate=1.0, n_estimators=700; total time=   0.0s\n",
      "[CV] END base_estimator=LinearRegression(), learning_rate=1.0, n_estimators=700; total time=   0.0s\n",
      "[CV] END base_estimator=LinearRegression(), learning_rate=1.0, n_estimators=800; total time=   0.0s\n",
      "[CV] END base_estimator=LinearRegression(), learning_rate=1.0, n_estimators=800; total time=   0.0s\n",
      "[CV] END base_estimator=LinearRegression(), learning_rate=1.0, n_estimators=800; total time=   0.0s\n",
      "[CV] END base_estimator=LinearRegression(), learning_rate=1.0, n_estimators=800; total time=   0.0s\n",
      "[CV] END base_estimator=LinearRegression(), learning_rate=1.0, n_estimators=800; total time=   0.0s\n",
      "[CV] END base_estimator=LinearRegression(), learning_rate=1.0, n_estimators=800; total time=   0.0s\n",
      "[CV] END base_estimator=LinearRegression(), learning_rate=1.0, n_estimators=800; total time=   0.0s\n",
      "[CV] END base_estimator=LinearRegression(), learning_rate=1.0, n_estimators=800; total time=   0.0s\n",
      "[CV] END base_estimator=LinearRegression(), learning_rate=1.0, n_estimators=800; total time=   0.0s\n",
      "[CV] END base_estimator=LinearRegression(), learning_rate=1.0, n_estimators=800; total time=   0.0s\n",
      "[CV] END base_estimator=LinearRegression(), learning_rate=1.0, n_estimators=900; total time=   0.0s\n",
      "[CV] END base_estimator=LinearRegression(), learning_rate=1.0, n_estimators=900; total time=   0.0s\n",
      "[CV] END base_estimator=LinearRegression(), learning_rate=1.0, n_estimators=900; total time=   0.0s\n",
      "[CV] END base_estimator=LinearRegression(), learning_rate=1.0, n_estimators=900; total time=   0.0s\n",
      "[CV] END base_estimator=LinearRegression(), learning_rate=1.0, n_estimators=900; total time=   0.0s\n",
      "[CV] END base_estimator=LinearRegression(), learning_rate=1.0, n_estimators=900; total time=   0.0s\n",
      "[CV] END base_estimator=LinearRegression(), learning_rate=1.0, n_estimators=900; total time=   0.0s\n",
      "[CV] END base_estimator=LinearRegression(), learning_rate=1.0, n_estimators=900; total time=   0.0s\n",
      "[CV] END base_estimator=LinearRegression(), learning_rate=1.0, n_estimators=900; total time=   0.0s\n",
      "[CV] END base_estimator=LinearRegression(), learning_rate=1.0, n_estimators=900; total time=   0.0s\n",
      "[CV] END base_estimator=LinearRegression(), learning_rate=1.0, n_estimators=1000; total time=   0.0s\n",
      "[CV] END base_estimator=LinearRegression(), learning_rate=1.0, n_estimators=1000; total time=   0.0s\n",
      "[CV] END base_estimator=LinearRegression(), learning_rate=1.0, n_estimators=1000; total time=   0.0s\n",
      "[CV] END base_estimator=LinearRegression(), learning_rate=1.0, n_estimators=1000; total time=   0.0s\n",
      "[CV] END base_estimator=LinearRegression(), learning_rate=1.0, n_estimators=1000; total time=   0.0s\n",
      "[CV] END base_estimator=LinearRegression(), learning_rate=1.0, n_estimators=1000; total time=   0.0s\n",
      "[CV] END base_estimator=LinearRegression(), learning_rate=1.0, n_estimators=1000; total time=   0.0s\n",
      "[CV] END base_estimator=LinearRegression(), learning_rate=1.0, n_estimators=1000; total time=   0.0s\n"
     ]
    },
    {
     "name": "stdout",
     "output_type": "stream",
     "text": [
      "[CV] END base_estimator=LinearRegression(), learning_rate=1.0, n_estimators=1000; total time=   0.0s\n",
      "[CV] END base_estimator=LinearRegression(), learning_rate=1.0, n_estimators=1000; total time=   0.0s\n"
     ]
    },
    {
     "data": {
      "text/html": [
       "<style>#sk-container-id-2 {color: black;background-color: white;}#sk-container-id-2 pre{padding: 0;}#sk-container-id-2 div.sk-toggleable {background-color: white;}#sk-container-id-2 label.sk-toggleable__label {cursor: pointer;display: block;width: 100%;margin-bottom: 0;padding: 0.3em;box-sizing: border-box;text-align: center;}#sk-container-id-2 label.sk-toggleable__label-arrow:before {content: \"▸\";float: left;margin-right: 0.25em;color: #696969;}#sk-container-id-2 label.sk-toggleable__label-arrow:hover:before {color: black;}#sk-container-id-2 div.sk-estimator:hover label.sk-toggleable__label-arrow:before {color: black;}#sk-container-id-2 div.sk-toggleable__content {max-height: 0;max-width: 0;overflow: hidden;text-align: left;background-color: #f0f8ff;}#sk-container-id-2 div.sk-toggleable__content pre {margin: 0.2em;color: black;border-radius: 0.25em;background-color: #f0f8ff;}#sk-container-id-2 input.sk-toggleable__control:checked~div.sk-toggleable__content {max-height: 200px;max-width: 100%;overflow: auto;}#sk-container-id-2 input.sk-toggleable__control:checked~label.sk-toggleable__label-arrow:before {content: \"▾\";}#sk-container-id-2 div.sk-estimator input.sk-toggleable__control:checked~label.sk-toggleable__label {background-color: #d4ebff;}#sk-container-id-2 div.sk-label input.sk-toggleable__control:checked~label.sk-toggleable__label {background-color: #d4ebff;}#sk-container-id-2 input.sk-hidden--visually {border: 0;clip: rect(1px 1px 1px 1px);clip: rect(1px, 1px, 1px, 1px);height: 1px;margin: -1px;overflow: hidden;padding: 0;position: absolute;width: 1px;}#sk-container-id-2 div.sk-estimator {font-family: monospace;background-color: #f0f8ff;border: 1px dotted black;border-radius: 0.25em;box-sizing: border-box;margin-bottom: 0.5em;}#sk-container-id-2 div.sk-estimator:hover {background-color: #d4ebff;}#sk-container-id-2 div.sk-parallel-item::after {content: \"\";width: 100%;border-bottom: 1px solid gray;flex-grow: 1;}#sk-container-id-2 div.sk-label:hover label.sk-toggleable__label {background-color: #d4ebff;}#sk-container-id-2 div.sk-serial::before {content: \"\";position: absolute;border-left: 1px solid gray;box-sizing: border-box;top: 0;bottom: 0;left: 50%;z-index: 0;}#sk-container-id-2 div.sk-serial {display: flex;flex-direction: column;align-items: center;background-color: white;padding-right: 0.2em;padding-left: 0.2em;position: relative;}#sk-container-id-2 div.sk-item {position: relative;z-index: 1;}#sk-container-id-2 div.sk-parallel {display: flex;align-items: stretch;justify-content: center;background-color: white;position: relative;}#sk-container-id-2 div.sk-item::before, #sk-container-id-2 div.sk-parallel-item::before {content: \"\";position: absolute;border-left: 1px solid gray;box-sizing: border-box;top: 0;bottom: 0;left: 50%;z-index: -1;}#sk-container-id-2 div.sk-parallel-item {display: flex;flex-direction: column;z-index: 1;position: relative;background-color: white;}#sk-container-id-2 div.sk-parallel-item:first-child::after {align-self: flex-end;width: 50%;}#sk-container-id-2 div.sk-parallel-item:last-child::after {align-self: flex-start;width: 50%;}#sk-container-id-2 div.sk-parallel-item:only-child::after {width: 0;}#sk-container-id-2 div.sk-dashed-wrapped {border: 1px dashed gray;margin: 0 0.4em 0.5em 0.4em;box-sizing: border-box;padding-bottom: 0.4em;background-color: white;}#sk-container-id-2 div.sk-label label {font-family: monospace;font-weight: bold;display: inline-block;line-height: 1.2em;}#sk-container-id-2 div.sk-label-container {text-align: center;}#sk-container-id-2 div.sk-container {/* jupyter's `normalize.less` sets `[hidden] { display: none; }` but bootstrap.min.css set `[hidden] { display: none !important; }` so we also need the `!important` here to be able to override the default hidden behavior on the sphinx rendered scikit-learn.org. See: https://github.com/scikit-learn/scikit-learn/issues/21755 */display: inline-block !important;position: relative;}#sk-container-id-2 div.sk-text-repr-fallback {display: none;}</style><div id=\"sk-container-id-2\" class=\"sk-top-container\"><div class=\"sk-text-repr-fallback\"><pre>RandomizedSearchCV(cv=10, estimator=AdaBoostRegressor(), n_iter=100,\n",
       "                   param_distributions={&#x27;base_estimator&#x27;: [LinearRegression()],\n",
       "                                        &#x27;learning_rate&#x27;: [0.01, 0.05, 0.1, 0.5,\n",
       "                                                          1.0],\n",
       "                                        &#x27;n_estimators&#x27;: [100, 200, 300, 400,\n",
       "                                                         500, 600, 700, 800,\n",
       "                                                         900, 1000]},\n",
       "                   random_state=0, scoring=&#x27;neg_mean_squared_error&#x27;, verbose=2)</pre><b>In a Jupyter environment, please rerun this cell to show the HTML representation or trust the notebook. <br />On GitHub, the HTML representation is unable to render, please try loading this page with nbviewer.org.</b></div><div class=\"sk-container\" hidden><div class=\"sk-item sk-dashed-wrapped\"><div class=\"sk-label-container\"><div class=\"sk-label sk-toggleable\"><input class=\"sk-toggleable__control sk-hidden--visually\" id=\"sk-estimator-id-2\" type=\"checkbox\" ><label for=\"sk-estimator-id-2\" class=\"sk-toggleable__label sk-toggleable__label-arrow\">RandomizedSearchCV</label><div class=\"sk-toggleable__content\"><pre>RandomizedSearchCV(cv=10, estimator=AdaBoostRegressor(), n_iter=100,\n",
       "                   param_distributions={&#x27;base_estimator&#x27;: [LinearRegression()],\n",
       "                                        &#x27;learning_rate&#x27;: [0.01, 0.05, 0.1, 0.5,\n",
       "                                                          1.0],\n",
       "                                        &#x27;n_estimators&#x27;: [100, 200, 300, 400,\n",
       "                                                         500, 600, 700, 800,\n",
       "                                                         900, 1000]},\n",
       "                   random_state=0, scoring=&#x27;neg_mean_squared_error&#x27;, verbose=2)</pre></div></div></div><div class=\"sk-parallel\"><div class=\"sk-parallel-item\"><div class=\"sk-item\"><div class=\"sk-label-container\"><div class=\"sk-label sk-toggleable\"><input class=\"sk-toggleable__control sk-hidden--visually\" id=\"sk-estimator-id-3\" type=\"checkbox\" ><label for=\"sk-estimator-id-3\" class=\"sk-toggleable__label sk-toggleable__label-arrow\">estimator: AdaBoostRegressor</label><div class=\"sk-toggleable__content\"><pre>AdaBoostRegressor()</pre></div></div></div><div class=\"sk-serial\"><div class=\"sk-item\"><div class=\"sk-estimator sk-toggleable\"><input class=\"sk-toggleable__control sk-hidden--visually\" id=\"sk-estimator-id-4\" type=\"checkbox\" ><label for=\"sk-estimator-id-4\" class=\"sk-toggleable__label sk-toggleable__label-arrow\">AdaBoostRegressor</label><div class=\"sk-toggleable__content\"><pre>AdaBoostRegressor()</pre></div></div></div></div></div></div></div></div></div></div>"
      ],
      "text/plain": [
       "RandomizedSearchCV(cv=10, estimator=AdaBoostRegressor(), n_iter=100,\n",
       "                   param_distributions={'base_estimator': [LinearRegression()],\n",
       "                                        'learning_rate': [0.01, 0.05, 0.1, 0.5,\n",
       "                                                          1.0],\n",
       "                                        'n_estimators': [100, 200, 300, 400,\n",
       "                                                         500, 600, 700, 800,\n",
       "                                                         900, 1000]},\n",
       "                   random_state=0, scoring='neg_mean_squared_error', verbose=2)"
      ]
     },
     "execution_count": 9,
     "metadata": {},
     "output_type": "execute_result"
    }
   ],
   "source": [
    "from sklearn.linear_model import LinearRegression\n",
    "base_estimator = LinearRegression()\n",
    "n_estimators = [int(x) for x in np.linspace(start=100, stop=1000, num=10)]\n",
    "learning_rate = [0.01, 0.05, 0.1, 0.5, 1.0]\n",
    "\n",
    "random_grid={\n",
    "    'base_estimator' : [base_estimator],\n",
    "    'n_estimators':n_estimators,\n",
    "    'learning_rate':learning_rate,\n",
    "}\n",
    "regressor = AdaBoostRegressor()\n",
    "gb = RandomizedSearchCV(estimator=regressor, param_distributions=random_grid, \n",
    "                        scoring='neg_mean_squared_error', n_iter=100, cv=10, verbose=2,\n",
    "                      random_state=0)\n",
    "\n",
    "gb.fit(X_train, y_train)"
   ]
  },
  {
   "cell_type": "code",
   "execution_count": 10,
   "id": "8d563c7e",
   "metadata": {},
   "outputs": [
    {
     "name": "stdout",
     "output_type": "stream",
     "text": [
      "{'n_estimators': 100, 'learning_rate': 0.01, 'base_estimator': LinearRegression()}\n",
      "\n",
      " -2869.8638612301447\n"
     ]
    }
   ],
   "source": [
    "print(gb.best_params_)\n",
    "print(\"\\n\",gb.best_score_)"
   ]
  },
  {
   "cell_type": "code",
   "execution_count": 11,
   "id": "e63900b4",
   "metadata": {},
   "outputs": [],
   "source": [
    "predictions = gb.predict(X_test)"
   ]
  },
  {
   "cell_type": "code",
   "execution_count": 12,
   "id": "dd36c04d",
   "metadata": {},
   "outputs": [
    {
     "data": {
      "text/plain": [
       "<AxesSubplot:ylabel='Density'>"
      ]
     },
     "execution_count": 12,
     "metadata": {},
     "output_type": "execute_result"
    },
    {
     "data": {
      "image/png": "[encoded data removed]",
      "text/plain": [
       "<Figure size 432x288 with 1 Axes>"
      ]
     },
     "metadata": {
      "needs_background": "light"
     },
     "output_type": "display_data"
    }
   ],
   "source": [
    "sns.distplot(predictions)"
   ]
  },
  {
   "cell_type": "code",
   "execution_count": 13,
   "id": "613b1c2e",
   "metadata": {},
   "outputs": [
    {
     "data": {
      "text/plain": [
       "<matplotlib.collections.PathCollection at 0x2378835d7c0>"
      ]
     },
     "execution_count": 13,
     "metadata": {},
     "output_type": "execute_result"
    },
    {
     "data": {
      "image/png": "[encoded data removed]",
      "text/plain": [
       "<Figure size 432x288 with 1 Axes>"
      ]
     },
     "metadata": {
      "needs_background": "light"
     },
     "output_type": "display_data"
    }
   ],
   "source": [
    "plt.scatter(y_test,predictions)"
   ]
  },
  {
   "cell_type": "code",
   "execution_count": 14,
   "id": "f6a8510a",
   "metadata": {},
   "outputs": [
    {
     "name": "stdout",
     "output_type": "stream",
     "text": [
      "MAE: 40.83814128010978\n",
      "MSE: 3087.033724457303\n",
      "RMSE: 55.56108102311638\n"
     ]
    }
   ],
   "source": [
    "print('MAE:', metrics.mean_absolute_error(y_test, predictions))\n",
    "print('MSE:', metrics.mean_squared_error(y_test, predictions))\n",
    "print('RMSE:', np.sqrt(metrics.mean_squared_error(y_test, predictions)))"
   ]
  },
  {
   "cell_type": "code",
   "execution_count": null,
   "id": "f19676cd",
   "metadata": {},
   "outputs": [],
   "source": []
  }
 ],
 "metadata": {
  "kernelspec": {
   "display_name": "Python 3 (ipykernel)",
   "language": "python",
   "name": "python3"
  },
  "language_info": {
   "codemirror_mode": {
    "name": "ipython",
    "version": 3
   },
   "file_extension": ".py",
   "mimetype": "text/x-python",
   "name": "python",
   "nbconvert_exporter": "python",
   "pygments_lexer": "ipython3",
   "version": "3.9.7"
  }
 },
 "nbformat": 4,
 "nbformat_minor": 5
}
